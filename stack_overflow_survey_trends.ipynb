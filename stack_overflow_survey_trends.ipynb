{
 "cells": [
  {
   "cell_type": "markdown",
   "metadata": {},
   "source": [
    "# Stack Overflow Survey Trends \n"
   ]
  },
  {
   "cell_type": "markdown",
   "metadata": {},
   "source": [
    "_______________________"
   ]
  },
  {
   "cell_type": "markdown",
   "metadata": {},
   "source": [
    "## Methodology"
   ]
  },
  {
   "cell_type": "markdown",
   "metadata": {},
   "source": [
    "### 1. Data Collection\n",
    "The dataset used for this analysis is the developer survey data gained from Stack Overflow. The dataset was loaded into a Pandas DataFrame for exploration and analysis.\n",
    "\n",
    "### 2. Data Cleaning\n",
    "Missing Data Removal: Columns with over 60% missing values were dropped to ensure the quality of data analysis. This step removed the columns NEWJobHunt, NEWJobHuntResearch, and NEWLearn.\n",
    "Missing Data Visualization: Missing values for Employment and DevType were identified and visualized using bar charts grouped by country.\n",
    "Row Filtering: Rows with missing values for Employment and DevType were filtered out.\n",
    "### 3. Feature Engineering\n",
    "Developer Analysis by Country:\n",
    "New columns representing different developer types (BackEnd, FrontEnd, FullStack, Mobile, Admin, and Data Scientist) were created based on the DevType column.\n",
    "The dataset was melted to create a single column for developer categories and their respective flags.\n",
    "Developer Analysis by Major:\n",
    "Missing values in UndergradMajor were filled with backward fill (bfill) to maintain consistency for respondents across years.\n",
    "New columns were created representing various educational backgrounds (SocialScience, NaturalScience, ComSci, OtherEng, Data, NoMajor).\n",
    "The dataset was melted to consolidate educational categories.\n",
    "### 4. Years of Experience & Compensation Relationship\n",
    "Missing values in YearsCodePro and ConvertedComp were filled using IterativeImputer.\n",
    "The YearsCodePro column was binned into quartiles to understand salary trends by experience level.\n",
    "A boxplot was used to visualize the relationship between experience levels and compensation.\n",
    "### 5. Average Salaries by Developer Type\n",
    "Developer types were extracted into separate columns and converted to flags.\n",
    "The dataset was melted for a consolidated view of developer categories.\n",
    "The average salary for each developer type was computed and visualized using a bar chart."
   ]
  },
  {
   "cell_type": "markdown",
   "metadata": {},
   "source": [
    "_____________________"
   ]
  },
  {
   "cell_type": "markdown",
   "metadata": {},
   "source": [
    "## Exploratory Data Analysis"
   ]
  },
  {
   "cell_type": "markdown",
   "metadata": {},
   "source": [
    "### Cleaning and Preprocessing the data"
   ]
  },
  {
   "cell_type": "code",
   "execution_count": 146,
   "metadata": {},
   "outputs": [],
   "source": [
    "import pandas as pd\n",
    "import numpy as np\n",
    "import seaborn as sns\n",
    "import matplotlib.pyplot as plt\n",
    "from sklearn.model_selection import train_test_split\n",
    "from sklearn.impute import IterativeImputer\n",
    "from sklearn.experimental import enable_iterative_imputer\n"
   ]
  },
  {
   "cell_type": "code",
   "execution_count": null,
   "metadata": {},
   "outputs": [],
   "source": [
    "dev_df = pd.read_csv('developer_dataset.csv')\n",
    "dev_df.head()"
   ]
  },
  {
   "cell_type": "code",
   "execution_count": 148,
   "metadata": {},
   "outputs": [
    {
     "data": {
      "text/plain": [
       "Index(['RespondentID', 'Year', 'Country', 'Employment', 'UndergradMajor',\n",
       "       'DevType', 'LanguageWorkedWith', 'LanguageDesireNextYear',\n",
       "       'DatabaseWorkedWith', 'DatabaseDesireNextYear', 'PlatformWorkedWith',\n",
       "       'PlatformDesireNextYear', 'Hobbyist', 'OrgSize', 'YearsCodePro',\n",
       "       'JobSeek', 'ConvertedComp', 'WorkWeekHrs', 'NEWJobHunt',\n",
       "       'NEWJobHuntResearch', 'NEWLearn'],\n",
       "      dtype='object')"
      ]
     },
     "execution_count": 148,
     "metadata": {},
     "output_type": "execute_result"
    }
   ],
   "source": [
    "dev_df.columns"
   ]
  },
  {
   "cell_type": "code",
   "execution_count": 149,
   "metadata": {},
   "outputs": [
    {
     "data": {
      "text/plain": [
       "RespondentID              111209\n",
       "Year                      111209\n",
       "Country                   111209\n",
       "Employment                109425\n",
       "UndergradMajor             98453\n",
       "DevType                   100433\n",
       "LanguageWorkedWith        102018\n",
       "LanguageDesireNextYear     96044\n",
       "DatabaseWorkedWith         85859\n",
       "DatabaseDesireNextYear     74234\n",
       "PlatformWorkedWith         91609\n",
       "PlatformDesireNextYear     85376\n",
       "Hobbyist                   68352\n",
       "OrgSize                    54804\n",
       "YearsCodePro               94793\n",
       "JobSeek                    60556\n",
       "ConvertedComp              91333\n",
       "WorkWeekHrs                51089\n",
       "NEWJobHunt                 19127\n",
       "NEWJobHuntResearch         18683\n",
       "NEWLearn                   24226\n",
       "dtype: int64"
      ]
     },
     "execution_count": 149,
     "metadata": {},
     "output_type": "execute_result"
    }
   ],
   "source": [
    "dev_df.count()"
   ]
  },
  {
   "cell_type": "code",
   "execution_count": 150,
   "metadata": {},
   "outputs": [
    {
     "data": {
      "text/html": [
       "<div>\n",
       "<style scoped>\n",
       "    .dataframe tbody tr th:only-of-type {\n",
       "        vertical-align: middle;\n",
       "    }\n",
       "\n",
       "    .dataframe tbody tr th {\n",
       "        vertical-align: top;\n",
       "    }\n",
       "\n",
       "    .dataframe thead th {\n",
       "        text-align: right;\n",
       "    }\n",
       "</style>\n",
       "<table border=\"1\" class=\"dataframe\">\n",
       "  <thead>\n",
       "    <tr style=\"text-align: right;\">\n",
       "      <th></th>\n",
       "      <th>RespondentID</th>\n",
       "      <th>Year</th>\n",
       "      <th>YearsCodePro</th>\n",
       "      <th>ConvertedComp</th>\n",
       "      <th>WorkWeekHrs</th>\n",
       "    </tr>\n",
       "  </thead>\n",
       "  <tbody>\n",
       "    <tr>\n",
       "      <th>count</th>\n",
       "      <td>111209.000000</td>\n",
       "      <td>111209.000000</td>\n",
       "      <td>94793.000000</td>\n",
       "      <td>9.133300e+04</td>\n",
       "      <td>51089.000000</td>\n",
       "    </tr>\n",
       "    <tr>\n",
       "      <th>mean</th>\n",
       "      <td>19262.039709</td>\n",
       "      <td>2018.854832</td>\n",
       "      <td>9.547045</td>\n",
       "      <td>1.251777e+05</td>\n",
       "      <td>41.051670</td>\n",
       "    </tr>\n",
       "    <tr>\n",
       "      <th>std</th>\n",
       "      <td>11767.011322</td>\n",
       "      <td>0.777503</td>\n",
       "      <td>7.548931</td>\n",
       "      <td>2.461218e+05</td>\n",
       "      <td>13.833929</td>\n",
       "    </tr>\n",
       "    <tr>\n",
       "      <th>min</th>\n",
       "      <td>1.000000</td>\n",
       "      <td>2018.000000</td>\n",
       "      <td>0.000000</td>\n",
       "      <td>0.000000e+00</td>\n",
       "      <td>1.000000</td>\n",
       "    </tr>\n",
       "    <tr>\n",
       "      <th>25%</th>\n",
       "      <td>9268.000000</td>\n",
       "      <td>2018.000000</td>\n",
       "      <td>4.000000</td>\n",
       "      <td>4.600000e+04</td>\n",
       "      <td>40.000000</td>\n",
       "    </tr>\n",
       "    <tr>\n",
       "      <th>50%</th>\n",
       "      <td>18535.000000</td>\n",
       "      <td>2019.000000</td>\n",
       "      <td>8.000000</td>\n",
       "      <td>7.900000e+04</td>\n",
       "      <td>40.000000</td>\n",
       "    </tr>\n",
       "    <tr>\n",
       "      <th>75%</th>\n",
       "      <td>28347.000000</td>\n",
       "      <td>2019.000000</td>\n",
       "      <td>14.000000</td>\n",
       "      <td>1.200000e+05</td>\n",
       "      <td>42.000000</td>\n",
       "    </tr>\n",
       "    <tr>\n",
       "      <th>max</th>\n",
       "      <td>42857.000000</td>\n",
       "      <td>2020.000000</td>\n",
       "      <td>50.000000</td>\n",
       "      <td>2.000000e+06</td>\n",
       "      <td>475.000000</td>\n",
       "    </tr>\n",
       "  </tbody>\n",
       "</table>\n",
       "</div>"
      ],
      "text/plain": [
       "        RespondentID           Year  YearsCodePro  ConvertedComp   WorkWeekHrs\n",
       "count  111209.000000  111209.000000  94793.000000   9.133300e+04  51089.000000\n",
       "mean    19262.039709    2018.854832      9.547045   1.251777e+05     41.051670\n",
       "std     11767.011322       0.777503      7.548931   2.461218e+05     13.833929\n",
       "min         1.000000    2018.000000      0.000000   0.000000e+00      1.000000\n",
       "25%      9268.000000    2018.000000      4.000000   4.600000e+04     40.000000\n",
       "50%     18535.000000    2019.000000      8.000000   7.900000e+04     40.000000\n",
       "75%     28347.000000    2019.000000     14.000000   1.200000e+05     42.000000\n",
       "max     42857.000000    2020.000000     50.000000   2.000000e+06    475.000000"
      ]
     },
     "execution_count": 150,
     "metadata": {},
     "output_type": "execute_result"
    }
   ],
   "source": [
    "dev_df.describe()"
   ]
  },
  {
   "cell_type": "markdown",
   "metadata": {},
   "source": [
    "### Removing Highly Missing Data"
   ]
  },
  {
   "cell_type": "code",
   "execution_count": 151,
   "metadata": {},
   "outputs": [
    {
     "name": "stdout",
     "output_type": "stream",
     "text": [
      "RespondentID               0.000000\n",
      "Year                       0.000000\n",
      "Country                    0.000000\n",
      "Employment                 1.604187\n",
      "UndergradMajor            11.470295\n",
      "DevType                    9.689863\n",
      "LanguageWorkedWith         8.264619\n",
      "LanguageDesireNextYear    13.636486\n",
      "DatabaseWorkedWith        22.794918\n",
      "DatabaseDesireNextYear    33.248208\n",
      "PlatformWorkedWith        17.624473\n",
      "PlatformDesireNextYear    23.229235\n",
      "Hobbyist                  38.537349\n",
      "OrgSize                   50.719816\n",
      "YearsCodePro              14.761395\n",
      "JobSeek                   45.547573\n",
      "ConvertedComp             17.872654\n",
      "WorkWeekHrs               54.060373\n",
      "NEWJobHunt                82.800852\n",
      "NEWJobHuntResearch        83.200101\n",
      "NEWLearn                  78.215792\n",
      "dtype: float64\n"
     ]
    }
   ],
   "source": [
    "# Calculating missing percentage of each column\n",
    "maxRows = dev_df['RespondentID'].count()\n",
    "\n",
    "print((1- dev_df.count()/maxRows)*100)\n"
   ]
  },
  {
   "cell_type": "code",
   "execution_count": 152,
   "metadata": {},
   "outputs": [],
   "source": [
    "# Drop columns with more than 60% missing values\n",
    "dev_df.drop(['NEWJobHunt', 'NEWJobHuntResearch', 'NEWLearn'], axis=1, inplace=True)"
   ]
  },
  {
   "cell_type": "markdown",
   "metadata": {},
   "source": [
    "### Developer Analysis by Country"
   ]
  },
  {
   "cell_type": "code",
   "execution_count": 153,
   "metadata": {},
   "outputs": [
    {
     "data": {
      "text/html": [
       "<div>\n",
       "<style scoped>\n",
       "    .dataframe tbody tr th:only-of-type {\n",
       "        vertical-align: middle;\n",
       "    }\n",
       "\n",
       "    .dataframe tbody tr th {\n",
       "        vertical-align: top;\n",
       "    }\n",
       "\n",
       "    .dataframe thead th {\n",
       "        text-align: right;\n",
       "    }\n",
       "</style>\n",
       "<table border=\"1\" class=\"dataframe\">\n",
       "  <thead>\n",
       "    <tr style=\"text-align: right;\">\n",
       "      <th></th>\n",
       "      <th>RespondentID</th>\n",
       "    </tr>\n",
       "    <tr>\n",
       "      <th>Country</th>\n",
       "      <th></th>\n",
       "    </tr>\n",
       "  </thead>\n",
       "  <tbody>\n",
       "    <tr>\n",
       "      <th>Canada</th>\n",
       "      <td>8979</td>\n",
       "    </tr>\n",
       "    <tr>\n",
       "      <th>China</th>\n",
       "      <td>2072</td>\n",
       "    </tr>\n",
       "    <tr>\n",
       "      <th>France</th>\n",
       "      <td>6861</td>\n",
       "    </tr>\n",
       "    <tr>\n",
       "      <th>Germany</th>\n",
       "      <td>16215</td>\n",
       "    </tr>\n",
       "    <tr>\n",
       "      <th>Japan</th>\n",
       "      <td>1049</td>\n",
       "    </tr>\n",
       "    <tr>\n",
       "      <th>Mexico</th>\n",
       "      <td>1918</td>\n",
       "    </tr>\n",
       "    <tr>\n",
       "      <th>Spain</th>\n",
       "      <td>4534</td>\n",
       "    </tr>\n",
       "    <tr>\n",
       "      <th>United Kingdom</th>\n",
       "      <td>15854</td>\n",
       "    </tr>\n",
       "    <tr>\n",
       "      <th>United States</th>\n",
       "      <td>53727</td>\n",
       "    </tr>\n",
       "  </tbody>\n",
       "</table>\n",
       "</div>"
      ],
      "text/plain": [
       "                RespondentID\n",
       "Country                     \n",
       "Canada                  8979\n",
       "China                   2072\n",
       "France                  6861\n",
       "Germany                16215\n",
       "Japan                   1049\n",
       "Mexico                  1918\n",
       "Spain                   4534\n",
       "United Kingdom         15854\n",
       "United States          53727"
      ]
     },
     "execution_count": 153,
     "metadata": {},
     "output_type": "execute_result"
    }
   ],
   "source": [
    "#Counting the respondents from each country\n",
    "dev_df[['RespondentID', 'Country']].groupby('Country').count()"
   ]
  },
  {
   "cell_type": "code",
   "execution_count": 154,
   "metadata": {},
   "outputs": [],
   "source": [
    "#Calculating the number of missing values in the Employment and DevType columns grpuped by Country\n",
    "missingData = dev_df[['Employment', 'DevType']].isnull().groupby(dev_df['Country']).sum().reset_index()"
   ]
  },
  {
   "cell_type": "code",
   "execution_count": 155,
   "metadata": {},
   "outputs": [
    {
     "data": {
      "text/html": [
       "<div>\n",
       "<style scoped>\n",
       "    .dataframe tbody tr th:only-of-type {\n",
       "        vertical-align: middle;\n",
       "    }\n",
       "\n",
       "    .dataframe tbody tr th {\n",
       "        vertical-align: top;\n",
       "    }\n",
       "\n",
       "    .dataframe thead th {\n",
       "        text-align: right;\n",
       "    }\n",
       "</style>\n",
       "<table border=\"1\" class=\"dataframe\">\n",
       "  <thead>\n",
       "    <tr style=\"text-align: right;\">\n",
       "      <th></th>\n",
       "      <th>Country</th>\n",
       "      <th>Employment</th>\n",
       "      <th>DevType</th>\n",
       "    </tr>\n",
       "  </thead>\n",
       "  <tbody>\n",
       "    <tr>\n",
       "      <th>0</th>\n",
       "      <td>Canada</td>\n",
       "      <td>148</td>\n",
       "      <td>944</td>\n",
       "    </tr>\n",
       "    <tr>\n",
       "      <th>1</th>\n",
       "      <td>China</td>\n",
       "      <td>139</td>\n",
       "      <td>491</td>\n",
       "    </tr>\n",
       "    <tr>\n",
       "      <th>2</th>\n",
       "      <td>France</td>\n",
       "      <td>104</td>\n",
       "      <td>848</td>\n",
       "    </tr>\n",
       "    <tr>\n",
       "      <th>3</th>\n",
       "      <td>Germany</td>\n",
       "      <td>386</td>\n",
       "      <td>1691</td>\n",
       "    </tr>\n",
       "    <tr>\n",
       "      <th>4</th>\n",
       "      <td>Japan</td>\n",
       "      <td>13</td>\n",
       "      <td>109</td>\n",
       "    </tr>\n",
       "    <tr>\n",
       "      <th>5</th>\n",
       "      <td>Mexico</td>\n",
       "      <td>25</td>\n",
       "      <td>207</td>\n",
       "    </tr>\n",
       "    <tr>\n",
       "      <th>6</th>\n",
       "      <td>Spain</td>\n",
       "      <td>74</td>\n",
       "      <td>434</td>\n",
       "    </tr>\n",
       "    <tr>\n",
       "      <th>7</th>\n",
       "      <td>United Kingdom</td>\n",
       "      <td>196</td>\n",
       "      <td>1472</td>\n",
       "    </tr>\n",
       "    <tr>\n",
       "      <th>8</th>\n",
       "      <td>United States</td>\n",
       "      <td>699</td>\n",
       "      <td>4580</td>\n",
       "    </tr>\n",
       "  </tbody>\n",
       "</table>\n",
       "</div>"
      ],
      "text/plain": [
       "          Country  Employment  DevType\n",
       "0          Canada         148      944\n",
       "1           China         139      491\n",
       "2          France         104      848\n",
       "3         Germany         386     1691\n",
       "4           Japan          13      109\n",
       "5          Mexico          25      207\n",
       "6           Spain          74      434\n",
       "7  United Kingdom         196     1472\n",
       "8   United States         699     4580"
      ]
     },
     "execution_count": 155,
     "metadata": {},
     "output_type": "execute_result"
    }
   ],
   "source": [
    "missingData"
   ]
  },
  {
   "cell_type": "code",
   "execution_count": null,
   "metadata": {},
   "outputs": [],
   "source": [
    "#Visualizing the missing values in the Employment and DevType columns grouped by Country\n",
    "A=sns.catplot(\n",
    "    data=missingData, kind=\"bar\",\n",
    "    x=\"Country\", y=\"Employment\", palette=\"deep\", height = 6, aspect = 2, zorder=4)\n",
    "plt.grid(axis='y', linestyle='--', zorder=3)\n",
    "plt.title('Missing Employment Data by Country')\n",
    "plt.ylabel('Number of Missing Values') \n",
    "\n",
    "B=sns.catplot(\n",
    "    data=missingData, kind=\"bar\",\n",
    "    x=\"Country\", y=\"DevType\",\n",
    "    height = 6, aspect = 2, palette=\"deep\", zorder=4)\n",
    "plt.title('Missing Developer Type Data by Country')\n",
    "plt.grid(axis='y', linestyle='--', zorder=3)\n",
    "plt.ylabel('Number of Missing Values') "
   ]
  },
  {
   "cell_type": "code",
   "execution_count": 157,
   "metadata": {},
   "outputs": [],
   "source": [
    "#Dropping rows with missing values in the Employment and DevType columns\n",
    "dev_df.dropna(subset = ['Employment','DevType'],\n",
    "    inplace = True,\n",
    "    how = 'any')"
   ]
  },
  {
   "cell_type": "code",
   "execution_count": null,
   "metadata": {},
   "outputs": [],
   "source": [
    "#Calculating the number of missing values in the Employment and DevType columns grpuped by Country\n",
    "empfig = sns.catplot(x=\"Country\", col=\"Employment\",\n",
    "                data=dev_df, kind=\"count\",\n",
    "                height=6, aspect=1.5, palette=\"deep\")\n"
   ]
  },
  {
   "cell_type": "code",
   "execution_count": 159,
   "metadata": {},
   "outputs": [],
   "source": [
    "#Creating a new dataframe with only the Country and DevType columns\n",
    "dev_country = dev_df[['Country','DevType']]"
   ]
  },
  {
   "cell_type": "code",
   "execution_count": null,
   "metadata": {},
   "outputs": [],
   "source": [
    "#Creating new columns for each of the DevType categories (basic developer types such as back-end, front-end, full-stack, mobile, administrator, data scientist)\n",
    "\n",
    "dev_country.loc[dev_country['DevType'].str.contains('(?i)back-end', case=False, na=False), 'BackEnd'] = True\n",
    "dev_country.loc[dev_country['DevType'].str.contains('(?i)front-end', case=False, na=False), 'FrontEnd'] = True\n",
    "dev_country.loc[dev_country['DevType'].str.contains('(?i)full-stack', case=False, na=False), 'FullStack'] = True\n",
    "dev_country.loc[dev_country['DevType'].str.contains('(?i)mobile', case=False, na=False), 'Mobile'] = True\n",
    "dev_country.loc[dev_country['DevType'].str.contains('(?i)administrator', case=False, na=False), 'Admin'] = True\n",
    "dev_country.loc[dev_country['DevType'].str.contains('(?i)data', case=False, na=False), 'Data Scientist'] = True\n",
    "\n"
   ]
  },
  {
   "cell_type": "code",
   "execution_count": 161,
   "metadata": {},
   "outputs": [],
   "source": [
    "#melting the dataframe to have a single column for the developer category and a flag for each category\n",
    "dev_country = dev_country.melt(id_vars=['Country'], \n",
    "    value_vars=['BackEnd','FrontEnd','FullStack','Mobile','Admin', 'Data Scientist'], \n",
    "    var_name='DevCat',\n",
    "    value_name='DevFlag')"
   ]
  },
  {
   "cell_type": "code",
   "execution_count": 162,
   "metadata": {},
   "outputs": [],
   "source": [
    "dev_country.dropna(how='any', inplace=True)"
   ]
  },
  {
   "cell_type": "code",
   "execution_count": null,
   "metadata": {},
   "outputs": [],
   "source": [
    "# Visualizing the number of developers in each category by country\n",
    "devFig = sns.catplot(x=\"Country\", col=\"DevCat\",\n",
    "                data=dev_country, kind=\"count\",\n",
    "                height=6, aspect=1.5, palette=\"deep\");"
   ]
  },
  {
   "cell_type": "markdown",
   "metadata": {},
   "source": [
    "### Developer Analysis by Major"
   ]
  },
  {
   "cell_type": "code",
   "execution_count": null,
   "metadata": {},
   "outputs": [],
   "source": [
    "# Calculating the number of missing values in the UndergradMajor column grouped by Year\n",
    "missingUndergrad = dev_df['UndergradMajor'].isnull().groupby(dev_df['Year']).sum().reset_index()\n",
    "\n",
    "sns.catplot(x=\"Year\", y=\"UndergradMajor\",\n",
    "                data=missingUndergrad, kind=\"bar\",palette=\"deep\",\n",
    "                height=4, aspect=1)\n",
    "\n",
    "plt.title('Missing Undergraduate Major Data by Year')"
   ]
  },
  {
   "cell_type": "code",
   "execution_count": 165,
   "metadata": {},
   "outputs": [],
   "source": [
    "#Sorting the dataframe by RespondentID and Year\n",
    "dev_df =  dev_df.sort_values(['RespondentID', 'Year'])\n"
   ]
  },
  {
   "cell_type": "code",
   "execution_count": 166,
   "metadata": {},
   "outputs": [
    {
     "name": "stderr",
     "output_type": "stream",
     "text": [
      "C:\\Users\\Hande\\AppData\\Local\\Temp\\ipykernel_18760\\3828747441.py:2: FutureWarning: A value is trying to be set on a copy of a DataFrame or Series through chained assignment using an inplace method.\n",
      "The behavior will change in pandas 3.0. This inplace method will never work because the intermediate object on which we are setting values always behaves as a copy.\n",
      "\n",
      "For example, when doing 'df[col].method(value, inplace=True)', try using 'df.method({col: value}, inplace=True)' or df[col] = df[col].method(value) instead, to perform the operation inplace on the original object.\n",
      "\n",
      "\n",
      "  dev_df['UndergradMajor'].bfill(axis=0, inplace=True)\n"
     ]
    }
   ],
   "source": [
    "#Filling missing values in the UndergradMajor column with the previous value\n",
    "dev_df['UndergradMajor'].bfill(axis=0, inplace=True)"
   ]
  },
  {
   "cell_type": "code",
   "execution_count": 167,
   "metadata": {},
   "outputs": [
    {
     "data": {
      "text/plain": [
       "array(['Computer science, computer engineering, or software engineering',\n",
       "       'Fine arts or performing arts (ex. graphic design, music, studio art)',\n",
       "       'Information systems, information technology, or system administration',\n",
       "       'A humanities discipline (such as literature, history, philosophy, etc.)',\n",
       "       'A social science (ex. anthropology, psychology, political science)',\n",
       "       'Web development or web design',\n",
       "       'Another engineering discipline (ex. civil, electrical, mechanical)',\n",
       "       'A humanities discipline (ex. literature, history, philosophy)',\n",
       "       'Fine arts or performing arts (such as graphic design, music, studio art, etc.)',\n",
       "       'A natural science (such as biology, chemistry, physics, etc.)',\n",
       "       'A business discipline (ex. accounting, finance, marketing)',\n",
       "       'Mathematics or statistics',\n",
       "       'Another engineering discipline (such as civil, electrical, mechanical, etc.)',\n",
       "       'A natural science (ex. biology, chemistry, physics)',\n",
       "       'A social science (such as anthropology, psychology, political science, etc.)',\n",
       "       'A business discipline (such as accounting, finance, marketing, etc.)',\n",
       "       'I never declared a major',\n",
       "       'A health science (ex. nursing, pharmacy, radiology)',\n",
       "       'A health science (such as nursing, pharmacy, radiology, etc.)',\n",
       "       nan], dtype=object)"
      ]
     },
     "execution_count": 167,
     "metadata": {},
     "output_type": "execute_result"
    }
   ],
   "source": [
    "#Checking for unique values in the UndergradMajor column\n",
    "dev_df.UndergradMajor.unique()"
   ]
  },
  {
   "cell_type": "code",
   "execution_count": null,
   "metadata": {},
   "outputs": [],
   "source": [
    "#Creating a new dataframe with only the Year and UndergradMajor columns\n",
    "edudf = dev_df[['Year','UndergradMajor']]\n",
    "edudf.dropna(how='any', inplace=True)\n",
    "edudf.loc[edudf['UndergradMajor'].str.contains('(?i)social science'), 'SocialScience'] = True\n",
    "edudf.loc[edudf['UndergradMajor'].str.contains('(?i)natural science'), 'NaturalScience'] = True\n",
    "edudf.loc[edudf['UndergradMajor'].str.contains('(?i)computer science'), 'ComSci'] = True\n",
    "edudf.loc[edudf['UndergradMajor'].str.contains('(?i)development'), 'ComSci'] = True\n",
    "edudf.loc[edudf['UndergradMajor'].str.contains('(?i)another engineering'), 'OtherEng'] = True\n",
    "edudf.loc[edudf['UndergradMajor'].str.contains('(?i)data'), 'Data'] = True\n",
    "edudf.loc[edudf['UndergradMajor'].str.contains('(?i)never declared'), 'NoMajor'] = True\n"
   ]
  },
  {
   "cell_type": "code",
   "execution_count": 169,
   "metadata": {},
   "outputs": [],
   "source": [
    "#Melting the dataframe to have the Year, EduCat and EduFlag columns\n",
    "edudf = edudf.melt(id_vars=['Year'], \n",
    "    value_vars=['SocialScience','NaturalScience','ComSci','OtherEng','NoMajor', 'Data'], \n",
    "    var_name='EduCat',\n",
    "    value_name='EduFlag')"
   ]
  },
  {
   "cell_type": "code",
   "execution_count": 170,
   "metadata": {},
   "outputs": [],
   "source": [
    "#Dropping rows with missing values and grouping by Year and EduCat\n",
    "edudf.dropna(how='any', inplace=True)\n",
    "edudf = edudf.groupby(['Year','EduCat']).count().reset_index()"
   ]
  },
  {
   "cell_type": "code",
   "execution_count": null,
   "metadata": {},
   "outputs": [],
   "source": [
    "#Plotting the number of respondents in each category of the EduCat column\n",
    "eduFig = sns.catplot(x=\"Year\", y='EduFlag', col=\"EduCat\",\n",
    "                data=edudf, kind=\"bar\", palette=\"deep\",\n",
    "                height=6, aspect=1.5);\n"
   ]
  },
  {
   "cell_type": "markdown",
   "metadata": {},
   "source": [
    "### Years of Experience & Compensation Relationship"
   ]
  },
  {
   "cell_type": "code",
   "execution_count": 172,
   "metadata": {},
   "outputs": [
    {
     "data": {
      "text/html": [
       "<div>\n",
       "<style scoped>\n",
       "    .dataframe tbody tr th:only-of-type {\n",
       "        vertical-align: middle;\n",
       "    }\n",
       "\n",
       "    .dataframe tbody tr th {\n",
       "        vertical-align: top;\n",
       "    }\n",
       "\n",
       "    .dataframe thead th {\n",
       "        text-align: right;\n",
       "    }\n",
       "</style>\n",
       "<table border=\"1\" class=\"dataframe\">\n",
       "  <thead>\n",
       "    <tr style=\"text-align: right;\">\n",
       "      <th></th>\n",
       "      <th>Year</th>\n",
       "      <th>YearsCodePro</th>\n",
       "      <th>ConvertedComp</th>\n",
       "    </tr>\n",
       "  </thead>\n",
       "  <tbody>\n",
       "    <tr>\n",
       "      <th>0</th>\n",
       "      <td>2018</td>\n",
       "      <td>NaN</td>\n",
       "      <td>141000.0</td>\n",
       "    </tr>\n",
       "    <tr>\n",
       "      <th>1</th>\n",
       "      <td>2019</td>\n",
       "      <td>1.0</td>\n",
       "      <td>61000.0</td>\n",
       "    </tr>\n",
       "    <tr>\n",
       "      <th>3</th>\n",
       "      <td>2018</td>\n",
       "      <td>4.0</td>\n",
       "      <td>48000.0</td>\n",
       "    </tr>\n",
       "    <tr>\n",
       "      <th>4</th>\n",
       "      <td>2019</td>\n",
       "      <td>8.0</td>\n",
       "      <td>90000.0</td>\n",
       "    </tr>\n",
       "    <tr>\n",
       "      <th>5</th>\n",
       "      <td>2020</td>\n",
       "      <td>13.0</td>\n",
       "      <td>116000.0</td>\n",
       "    </tr>\n",
       "    <tr>\n",
       "      <th>...</th>\n",
       "      <td>...</td>\n",
       "      <td>...</td>\n",
       "      <td>...</td>\n",
       "    </tr>\n",
       "    <tr>\n",
       "      <th>111187</th>\n",
       "      <td>2018</td>\n",
       "      <td>NaN</td>\n",
       "      <td>93000.0</td>\n",
       "    </tr>\n",
       "    <tr>\n",
       "      <th>111188</th>\n",
       "      <td>2018</td>\n",
       "      <td>NaN</td>\n",
       "      <td>116000.0</td>\n",
       "    </tr>\n",
       "    <tr>\n",
       "      <th>111190</th>\n",
       "      <td>2018</td>\n",
       "      <td>NaN</td>\n",
       "      <td>8000.0</td>\n",
       "    </tr>\n",
       "    <tr>\n",
       "      <th>111191</th>\n",
       "      <td>2018</td>\n",
       "      <td>NaN</td>\n",
       "      <td>71000.0</td>\n",
       "    </tr>\n",
       "    <tr>\n",
       "      <th>111198</th>\n",
       "      <td>2018</td>\n",
       "      <td>1.0</td>\n",
       "      <td>144000.0</td>\n",
       "    </tr>\n",
       "  </tbody>\n",
       "</table>\n",
       "<p>99975 rows × 3 columns</p>\n",
       "</div>"
      ],
      "text/plain": [
       "        Year  YearsCodePro  ConvertedComp\n",
       "0       2018           NaN       141000.0\n",
       "1       2019           1.0        61000.0\n",
       "3       2018           4.0        48000.0\n",
       "4       2019           8.0        90000.0\n",
       "5       2020          13.0       116000.0\n",
       "...      ...           ...            ...\n",
       "111187  2018           NaN        93000.0\n",
       "111188  2018           NaN       116000.0\n",
       "111190  2018           NaN         8000.0\n",
       "111191  2018           NaN        71000.0\n",
       "111198  2018           1.0       144000.0\n",
       "\n",
       "[99975 rows x 3 columns]"
      ]
     },
     "execution_count": 172,
     "metadata": {},
     "output_type": "execute_result"
    }
   ],
   "source": [
    "#create a new dataframe with only the Year, YearsCodePro and ConvertedComp columns\n",
    "compensationFields = dev_df[['Year', 'YearsCodePro', 'ConvertedComp']]\n",
    "compensationFields\n"
   ]
  },
  {
   "cell_type": "code",
   "execution_count": null,
   "metadata": {},
   "outputs": [],
   "source": [
    "#Visualizing the distribution of the YearsCodePro column\n",
    "fig_Comp =  sns.boxplot(x='Year', y='ConvertedComp', data= compensationFields, palette='deep')\n",
    "fig_Comp.set_yscale('log')\n",
    "fig_Comp.set_title('Compensation by Year')\n",
    "plt.ylabel('Compensation (log scale)')"
   ]
  },
  {
   "cell_type": "code",
   "execution_count": null,
   "metadata": {},
   "outputs": [],
   "source": [
    "fig_Code = sns.boxplot(x='Year', y='YearsCodePro', data = compensationFields, palette='deep')"
   ]
  },
  {
   "cell_type": "code",
   "execution_count": 175,
   "metadata": {},
   "outputs": [],
   "source": [
    "# Creating a new dataframe with only the YearsCodePro and ConvertedComp columns\n",
    "\n",
    "imputedf = dev_df[['YearsCodePro','ConvertedComp']]\n",
    "\n",
    "# Splitting the data into training and test datasets\n",
    "traindf, testdf = train_test_split(imputedf, train_size=0.1)\n",
    "\n",
    "# Creating the IterativeImputer model to predict missing values\n",
    "imp = IterativeImputer(max_iter=20, random_state=0)\n",
    "\n",
    "# Fitting the model to the the test dataset\n",
    "imp.fit(imputedf)\n",
    "\n",
    "# Transforming the model on the entire dataset\n",
    "compdf = pd.DataFrame(np.round(imp.transform(imputedf),0), columns=['YearsCodePro','ConvertedComp'])\n",
    "\n",
    "\n",
    "#The above code will loop through (up to 20 times), and fill in the missing data based on the context provided by the other column. \n",
    "#This will create data points that are indicative of the overall trend of the data. Now, we can analyze the relationship between YearsCodePro and ConvertedComp through the use of a boxplot"
   ]
  },
  {
   "cell_type": "code",
   "execution_count": null,
   "metadata": {},
   "outputs": [],
   "source": [
    "# Creating a new column to bin the YearsCodePro column\n",
    "compPlotdf = compdf.loc[compdf['ConvertedComp'] <= 150000]\n",
    "compPlotdf['CodeYearBins'] = pd.qcut(compPlotdf['YearsCodePro'], q=4)\n",
    "\n",
    "# Visualizing the relationship between YearsCodePro and ConvertedComp\n",
    "sns.boxplot(x=\"CodeYearBins\", y=\"ConvertedComp\",\n",
    "            data=compPlotdf, palette=\"deep\")\n"
   ]
  },
  {
   "cell_type": "markdown",
   "metadata": {},
   "source": [
    "### Average Salaries by Developer Type"
   ]
  },
  {
   "cell_type": "code",
   "execution_count": null,
   "metadata": {},
   "outputs": [],
   "source": [
    "#Creating a new dataframe with only the ConvertedComp and DevType columns\n",
    "dev_salary_lang = dev_df[['ConvertedComp','DevType']]\n",
    "\n",
    "dev_salary_lang.loc[dev_salary_lang['DevType'].str.contains('(?i)back-end', case=False, na=False), 'BackEnd'] = True\n",
    "dev_salary_lang.loc[dev_salary_lang['DevType'].str.contains('(?i)front-end', case=False, na=False), 'FrontEnd'] = True\n",
    "dev_salary_lang.loc[dev_salary_lang['DevType'].str.contains('(?i)full-stack', case=False, na=False), 'FullStack'] = True\n",
    "dev_salary_lang.loc[dev_salary_lang['DevType'].str.contains('(?i)mobile', case=False, na=False), 'Mobile'] = True\n",
    "dev_salary_lang.loc[dev_salary_lang['DevType'].str.contains('(?i)administrator', case=False, na=False), 'Admin'] = True\n",
    "dev_salary_lang.loc[dev_salary_lang['DevType'].str.contains('(?i)data', case=False, na=False), 'Data Scientist'] = True\n",
    "\n",
    "\n",
    "\n",
    "dev_salary_lang = dev_salary_lang.melt(id_vars=['ConvertedComp'], \n",
    "    value_vars=['BackEnd','FrontEnd','FullStack','Mobile','Admin', 'Data Scientist'], \n",
    "    var_name='DevCat',\n",
    "    value_name='DevFlag')\n",
    "\n"
   ]
  },
  {
   "cell_type": "code",
   "execution_count": null,
   "metadata": {},
   "outputs": [],
   "source": [
    "# Calculating the average salary for each developer type\n",
    "salary_avg = dev_salary_lang[dev_salary_lang['DevFlag'] == True].groupby('DevCat').mean()\n",
    "\n",
    "# Visualizing the average salary for each developer type\n",
    "a = sns.catplot(x=\"DevCat\", y=\"ConvertedComp\", palette=\"deep\", data=salary_avg, kind=\"bar\", height=6, aspect=2, zorder=3)\n",
    "plt.ylim(100000, 140000)\n",
    "plt.xlabel('Developer Type')\n",
    "plt.ylabel('Average Salary')\n",
    "plt.title('Average Salary by Developer Type')\n",
    "plt.grid(axis='y', linestyle='--', zorder=0)"
   ]
  },
  {
   "cell_type": "markdown",
   "metadata": {},
   "source": [
    "__________________"
   ]
  },
  {
   "cell_type": "markdown",
   "metadata": {},
   "source": [
    "## Conclusions\n",
    "\n",
    "### 1. Developer Distribution by Country:\n",
    "The majority of respondents are concentrated in specific countries, providing insights into global developer trends.\n",
    "Missing values in Employment and DevType varied significantly across countries.\n",
    "### 2. Popular Developer Roles:\n",
    "Backend, Frontend, and Full Stack developers are the most common roles across all surveyed countries.\n",
    "The distribution of developer types shows regional preferences in the developer job market.\n",
    "### 3. Educational Background Trends:\n",
    "Computer Science remains the most common educational background among developers, followed by engineering fields.\n",
    "The trend suggests a growing interest in computer science education across the years.\n",
    "### 4. Years of Experience & Compensation:\n",
    "There is a clear upward trend in compensation with years of professional coding experience.\n",
    "Developers with more than 10 years of professional experience consistently command higher salaries. After the ten-year mark, compensation increases but plateaus thereafter.\n",
    "### 5. Average Salaries by Developer Type:\n",
    "Data Scientists and Full Stack Developers tend to have higher average salaries compared to other developer types.\n",
    "Backend, Frontend, and Mobile Developers also have competitive salaries."
   ]
  },
  {
   "cell_type": "markdown",
   "metadata": {},
   "source": [
    "______________"
   ]
  },
  {
   "cell_type": "markdown",
   "metadata": {},
   "source": [
    "## Recommendations\n",
    "\n",
    "### 1. Targeted Educational Outreach:\n",
    "Encourage educational institutions to focus on computer science and data science programs due to the demand in these fields.\n",
    "### 2. Professional Development:\n",
    "Developers should pursue continuous learning, especially in data science and full-stack development, to maximize salary potential.\n",
    "### 3. Global Collaboration:\n",
    "Companies should leverage remote work opportunities to tap into global developer talent, addressing the regional disparities observed in developer roles.\n",
    "### 4.Further Analysis:\n",
    "Investigate the correlation between different programming languages/frameworks and compensation.\n",
    "Study developer satisfaction trends based on role and salary."
   ]
  }
 ],
 "metadata": {
  "kernelspec": {
   "display_name": "Python 3",
   "language": "python",
   "name": "python3"
  },
  "language_info": {
   "codemirror_mode": {
    "name": "ipython",
    "version": 3
   },
   "file_extension": ".py",
   "mimetype": "text/x-python",
   "name": "python",
   "nbconvert_exporter": "python",
   "pygments_lexer": "ipython3",
   "version": "3.12.3"
  },
  "orig_nbformat": 4
 },
 "nbformat": 4,
 "nbformat_minor": 2
}
